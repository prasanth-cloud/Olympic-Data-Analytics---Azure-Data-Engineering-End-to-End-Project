from pyspark.sql.functions import col
from pyspark.sql.types import IntegerType, DoubleType, BooleanType, DateType

configs = {"fs.azure.account.auth.type": "OAuth",
"fs.azure.account.oauth.provider.type": "org.apache.hadoop.fs.azurebfs.oauth2.ClientCredsTokenProvider",
"fs.azure.account.oauth2.client.id": "",
"fs.azure.account.oauth2.client.secret": '',
"fs.azure.account.oauth2.client.endpoint": "https://login.microsoftonline.com/tenant_id/oauth2/token"}


Note: Place the Client id , Value of the secret key in the quotes, then value of tenant_id should be placed in the tenant_id in client.endpoint


dbutils.fs.mount(
source = "abfss://tokyoolympicsdatanalytics@tokyoolympics21.dfs.core.windows.net", # container@storageacc
mount_point = "/mnt/tokyoolympic",
extra_configs = configs)

%fs
ls "/mnt/tokyoolympic"

If you get an error here , add the role assignment and proceed, you will see the output mentioned in the image.


athletes = spark.read.format("csv").option("header","true").option("inferSchema","true").load("/mnt/tokyoolympic/raw_data21/athletes.csv")
coaches = spark.read.format("csv").option("header","true").option("inferSchema","true").load("/mnt/tokyoolympic/raw_data21/coaches.csv")
entriesgender = spark.read.format("csv").option("header","true").option("inferSchema","true").load("/mnt/tokyoolympic/raw_data21/entriesgender.csv")
medals = spark.read.format("csv").option("header","true").option("inferSchema","true").load("/mnt/tokyoolympic/raw_data21/medals.csv")
teams = spark.read.format("csv").option("header","true").option("inferSchema","true").load("/mnt/tokyoolympic/raw_data21/teams.csv")


athletes.show()
athletes.printSchema()
coaches.show()
entriesgender.printSchema()
entriesgender = entriesgender.withColumn("Female",col("Female").cast(IntegerType()))\
    .withColumn("Male",col("Male").cast(IntegerType()))\
    .withColumn("Total",col("Total").cast(IntegerType()))


athletes.write.mode("overwrite"). option("header","True").csv("/mnt/tokyoolympic/transformed_data21/athletes")
coaches.write.mode("overwrite"). option("header","True").csv("/mnt/tokyoolympic/transformed_data21/coaches")
entriesgender.write.mode("overwrite"). option("header","True").csv("/mnt/tokyoolympic/transformed_data21/entriesgender")
medals.write.mode("overwrite"). option("header","True").csv("/mnt/tokyoolympic/transformed_data21/medals")
teams.write.mode("overwrite"). option("header","True").csv("/mnt/tokyoolympic/transformed_data21/teams")
